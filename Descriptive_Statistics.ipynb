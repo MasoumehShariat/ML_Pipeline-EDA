{
  "cells": [
    {
      "cell_type": "markdown",
      "metadata": {
        "id": "js8NQWT7YJfM"
      },
      "source": [
        "#**Descriptive Statistics**\n",
        "\n",
        "Descriptive statistics analysis helps to describe the basic features of dataset and obtain a brief summary of the data."
      ]
    },
    {
      "cell_type": "code",
      "execution_count": 1,
      "metadata": {
        "id": "EJfmXGesYhNd"
      },
      "outputs": [],
      "source": [
        "import pandas as pd\n",
        "from matplotlib import pyplot as plt"
      ]
    },
    {
      "cell_type": "code",
      "execution_count": 5,
      "metadata": {
        "colab": {
          "base_uri": "https://localhost:8080/",
          "height": 206
        },
        "id": "HqCtpUPadQRx",
        "outputId": "52f55f67-66ab-4f1b-beb9-3d4e9a506eba"
      },
      "outputs": [
        {
          "data": {
            "text/html": [
              "<div>\n",
              "<style scoped>\n",
              "    .dataframe tbody tr th:only-of-type {\n",
              "        vertical-align: middle;\n",
              "    }\n",
              "\n",
              "    .dataframe tbody tr th {\n",
              "        vertical-align: top;\n",
              "    }\n",
              "\n",
              "    .dataframe thead th {\n",
              "        text-align: right;\n",
              "    }\n",
              "</style>\n",
              "<table border=\"1\" class=\"dataframe\">\n",
              "  <thead>\n",
              "    <tr style=\"text-align: right;\">\n",
              "      <th></th>\n",
              "      <th>quarter</th>\n",
              "      <th>Year</th>\n",
              "      <th>Sales</th>\n",
              "      <th>Type</th>\n",
              "    </tr>\n",
              "  </thead>\n",
              "  <tbody>\n",
              "    <tr>\n",
              "      <th>0</th>\n",
              "      <td>Q1</td>\n",
              "      <td>2000</td>\n",
              "      <td>694513</td>\n",
              "      <td>B</td>\n",
              "    </tr>\n",
              "    <tr>\n",
              "      <th>1</th>\n",
              "      <td>Q2</td>\n",
              "      <td>2000</td>\n",
              "      <td>751698</td>\n",
              "      <td>A</td>\n",
              "    </tr>\n",
              "    <tr>\n",
              "      <th>2</th>\n",
              "      <td>Q3</td>\n",
              "      <td>2000</td>\n",
              "      <td>745556</td>\n",
              "      <td>B</td>\n",
              "    </tr>\n",
              "    <tr>\n",
              "      <th>3</th>\n",
              "      <td>Q4</td>\n",
              "      <td>2000</td>\n",
              "      <td>791509</td>\n",
              "      <td>A</td>\n",
              "    </tr>\n",
              "    <tr>\n",
              "      <th>4</th>\n",
              "      <td>Q1</td>\n",
              "      <td>2001</td>\n",
              "      <td>704201</td>\n",
              "      <td>B</td>\n",
              "    </tr>\n",
              "  </tbody>\n",
              "</table>\n",
              "</div>"
            ],
            "text/plain": [
              "  quarter  Year   Sales Type\n",
              "0      Q1  2000  694513    B\n",
              "1      Q2  2000  751698    A\n",
              "2      Q3  2000  745556    B\n",
              "3      Q4  2000  791509    A\n",
              "4      Q1  2001  704201    B"
            ]
          },
          "execution_count": 5,
          "metadata": {},
          "output_type": "execute_result"
        }
      ],
      "source": [
        "df=pd.read_csv('C:/Users/msh/eda/Data/eda.csv')\n",
        "df.head()"
      ]
    },
    {
      "cell_type": "code",
      "execution_count": 6,
      "metadata": {
        "colab": {
          "base_uri": "https://localhost:8080/"
        },
        "id": "v7bpXBW7eYWe",
        "outputId": "8a930679-f8c9-4fa5-f985-d558ce786bfa"
      },
      "outputs": [
        {
          "name": "stdout",
          "output_type": "stream",
          "text": [
            "<class 'pandas.core.frame.DataFrame'>\n",
            "RangeIndex: 68 entries, 0 to 67\n",
            "Data columns (total 4 columns):\n",
            " #   Column   Non-Null Count  Dtype \n",
            "---  ------   --------------  ----- \n",
            " 0   quarter  68 non-null     object\n",
            " 1   Year     68 non-null     int64 \n",
            " 2   Sales    68 non-null     int64 \n",
            " 3   Type     68 non-null     object\n",
            "dtypes: int64(2), object(2)\n",
            "memory usage: 2.2+ KB\n"
          ]
        }
      ],
      "source": [
        "df.info()"
      ]
    },
    {
      "cell_type": "markdown",
      "metadata": {
        "id": "pk16UhvHes7L"
      },
      "source": [
        "### Describe Numerical Value"
      ]
    },
    {
      "cell_type": "code",
      "execution_count": 7,
      "metadata": {
        "colab": {
          "base_uri": "https://localhost:8080/",
          "height": 300
        },
        "id": "h48K2WMpdbf_",
        "outputId": "6e1c56bc-0a16-43f1-bf1b-2ec95d4605c2"
      },
      "outputs": [
        {
          "data": {
            "text/html": [
              "<div>\n",
              "<style scoped>\n",
              "    .dataframe tbody tr th:only-of-type {\n",
              "        vertical-align: middle;\n",
              "    }\n",
              "\n",
              "    .dataframe tbody tr th {\n",
              "        vertical-align: top;\n",
              "    }\n",
              "\n",
              "    .dataframe thead th {\n",
              "        text-align: right;\n",
              "    }\n",
              "</style>\n",
              "<table border=\"1\" class=\"dataframe\">\n",
              "  <thead>\n",
              "    <tr style=\"text-align: right;\">\n",
              "      <th></th>\n",
              "      <th>Year</th>\n",
              "      <th>Sales</th>\n",
              "    </tr>\n",
              "  </thead>\n",
              "  <tbody>\n",
              "    <tr>\n",
              "      <th>count</th>\n",
              "      <td>68.000000</td>\n",
              "      <td>6.800000e+01</td>\n",
              "    </tr>\n",
              "    <tr>\n",
              "      <th>mean</th>\n",
              "      <td>2008.000000</td>\n",
              "      <td>9.690075e+05</td>\n",
              "    </tr>\n",
              "    <tr>\n",
              "      <th>std</th>\n",
              "      <td>4.935404</td>\n",
              "      <td>1.517203e+05</td>\n",
              "    </tr>\n",
              "    <tr>\n",
              "      <th>min</th>\n",
              "      <td>2000.000000</td>\n",
              "      <td>6.945130e+05</td>\n",
              "    </tr>\n",
              "    <tr>\n",
              "      <th>25%</th>\n",
              "      <td>2004.000000</td>\n",
              "      <td>8.345058e+05</td>\n",
              "    </tr>\n",
              "    <tr>\n",
              "      <th>50%</th>\n",
              "      <td>2008.000000</td>\n",
              "      <td>9.641050e+05</td>\n",
              "    </tr>\n",
              "    <tr>\n",
              "      <th>75%</th>\n",
              "      <td>2012.000000</td>\n",
              "      <td>1.069927e+06</td>\n",
              "    </tr>\n",
              "    <tr>\n",
              "      <th>max</th>\n",
              "      <td>2016.000000</td>\n",
              "      <td>1.315101e+06</td>\n",
              "    </tr>\n",
              "  </tbody>\n",
              "</table>\n",
              "</div>"
            ],
            "text/plain": [
              "              Year         Sales\n",
              "count    68.000000  6.800000e+01\n",
              "mean   2008.000000  9.690075e+05\n",
              "std       4.935404  1.517203e+05\n",
              "min    2000.000000  6.945130e+05\n",
              "25%    2004.000000  8.345058e+05\n",
              "50%    2008.000000  9.641050e+05\n",
              "75%    2012.000000  1.069927e+06\n",
              "max    2016.000000  1.315101e+06"
            ]
          },
          "execution_count": 7,
          "metadata": {},
          "output_type": "execute_result"
        }
      ],
      "source": [
        "df.describe()"
      ]
    },
    {
      "cell_type": "code",
      "execution_count": 8,
      "metadata": {
        "colab": {
          "base_uri": "https://localhost:8080/"
        },
        "id": "FLIod7fFeVKG",
        "outputId": "9ee99f6a-3752-41a3-9952-a8b15a476719"
      },
      "outputs": [
        {
          "data": {
            "text/plain": [
              "count    6.800000e+01\n",
              "mean     9.690075e+05\n",
              "std      1.517203e+05\n",
              "min      6.945130e+05\n",
              "25%      8.345058e+05\n",
              "50%      9.641050e+05\n",
              "75%      1.069927e+06\n",
              "max      1.315101e+06\n",
              "Name: Sales, dtype: float64"
            ]
          },
          "execution_count": 8,
          "metadata": {},
          "output_type": "execute_result"
        }
      ],
      "source": [
        "df['Sales'].describe()"
      ]
    },
    {
      "cell_type": "code",
      "execution_count": 9,
      "metadata": {
        "colab": {
          "base_uri": "https://localhost:8080/"
        },
        "id": "v9bDD_Z7hihQ",
        "outputId": "c1763f00-26c9-463f-a634-27b71102d5f6"
      },
      "outputs": [
        {
          "data": {
            "text/plain": [
              "969007.5294117647"
            ]
          },
          "execution_count": 9,
          "metadata": {},
          "output_type": "execute_result"
        }
      ],
      "source": [
        "df['Sales'].describe()['mean']"
      ]
    },
    {
      "cell_type": "markdown",
      "metadata": {
        "id": "1hRU6tg0fGPj"
      },
      "source": [
        "##**Box Plot**\n",
        "\n",
        "We can describe the values of the columns by calculating the sum of several percentiles and show in boxplot. "
      ]
    },
    {
      "cell_type": "code",
      "execution_count": 10,
      "metadata": {
        "colab": {
          "base_uri": "https://localhost:8080/"
        },
        "id": "eget1q3LijL4",
        "outputId": "6438b566-c954-448e-fb81-a67c01b55c65"
      },
      "outputs": [
        {
          "name": "stdout",
          "output_type": "stream",
          "text": [
            "Min=  694513.0 \n",
            "First Quartile: 834505.75 \n",
            "Median=  964105.0 \n",
            "Third Quartile: 1069927.25 \n",
            "Max=  1315101.0 \n",
            "Random Quartile: 1108802.0\n"
          ]
        }
      ],
      "source": [
        "print('Min= ',df['Sales'].quantile(0),'\\n'\n",
        "      'First Quartile:' ,df['Sales'].quantile(0.25),'\\n'\n",
        "      'Median= ',df['Sales'].quantile(0.5),'\\n'\n",
        "      'Third Quartile:' ,df['Sales'].quantile(0.75),'\\n'\n",
        "      'Max= ',df['Sales'].quantile(1),'\\n'\n",
        "      'Random Quartile:' ,df['Sales'].quantile(0.8))"
      ]
    },
    {
      "cell_type": "code",
      "execution_count": 11,
      "metadata": {
        "colab": {
          "base_uri": "https://localhost:8080/",
          "height": 275
        },
        "id": "NPvWPqFGiZ8n",
        "outputId": "5eca680d-9a8a-433d-8aa2-0348872bd54e"
      },
      "outputs": [
        {
          "data": {
            "image/png": "[encoded data removed]",
            "text/plain": [
              "<Figure size 432x288 with 1 Axes>"
            ]
          },
          "metadata": {
            "needs_background": "light"
          },
          "output_type": "display_data"
        }
      ],
      "source": [
        "figsize=(8,6)\n",
        "df.boxplot(column=\"Sales\",return_type='axes')\n",
        "plt.text(x=0.7, y=df['Sales'].quantile(.25), s=\"First Quartile\",)\n",
        "plt.text(x=0.7,y=df['Sales'].quantile(.5) ,s=\"Median\")\n",
        "plt.text(x=0.7, y=df['Sales'].quantile(.75), s=\"Third Quartile\")\n",
        "plt.text(x=0.87, y=df['Sales'].quantile(0), s=\"Min\")\n",
        "plt.text(x=0.87, y=df['Sales'].quantile(1), s=\"Max\")\n",
        "plt.show()"
      ]
    },
    {
      "cell_type": "markdown",
      "metadata": {},
      "source": [
        "##**Scatter Plot**\n",
        "\n",
        "A scatter plot is a diagram where each value in the data set is represented by a dot."
      ]
    },
    {
      "cell_type": "code",
      "execution_count": 13,
      "metadata": {
        "id": "9bPp0Gs_m5oT"
      },
      "outputs": [
        {
          "data": {
            "image/png": "[encoded data removed]",
            "text/plain": [
              "<Figure size 432x288 with 1 Axes>"
            ]
          },
          "metadata": {
            "needs_background": "light"
          },
          "output_type": "display_data"
        }
      ],
      "source": [
        "plt.scatter(df.Year,df.Sales)\n",
        "plt.show()"
      ]
    },
    {
      "cell_type": "code",
      "execution_count": null,
      "metadata": {},
      "outputs": [],
      "source": []
    }
  ],
  "metadata": {
    "colab": {
      "collapsed_sections": [],
      "name": "Descriptive Statistics.ipynb",
      "provenance": []
    },
    "kernelspec": {
      "display_name": "Python 3",
      "name": "python3"
    },
    "language_info": {
      "codemirror_mode": {
        "name": "ipython",
        "version": 3
      },
      "file_extension": ".py",
      "mimetype": "text/x-python",
      "name": "python",
      "nbconvert_exporter": "python",
      "pygments_lexer": "ipython3",
      "version": "3.8.5"
    }
  },
  "nbformat": 4,
  "nbformat_minor": 0
}
